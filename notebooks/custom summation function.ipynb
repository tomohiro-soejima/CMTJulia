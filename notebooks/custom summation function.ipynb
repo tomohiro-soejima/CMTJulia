{
 "cells": [
  {
   "cell_type": "code",
   "execution_count": 78,
   "metadata": {},
   "outputs": [
    {
     "data": {
      "text/plain": [
       "1"
      ]
     },
     "execution_count": 78,
     "metadata": {},
     "output_type": "execute_result"
    }
   ],
   "source": [
    "Threads.nthreads()"
   ]
  },
  {
   "cell_type": "code",
   "execution_count": 47,
   "metadata": {},
   "outputs": [],
   "source": [
    "# needed for calling python functions later\n",
    "# make sure you have numpy in your python environment\n",
    "using PyCall"
   ]
  },
  {
   "cell_type": "code",
   "execution_count": 48,
   "metadata": {},
   "outputs": [
    {
     "data": {
      "text/plain": [
       "mymult (generic function with 1 method)"
      ]
     },
     "execution_count": 48,
     "metadata": {},
     "output_type": "execute_result"
    }
   ],
   "source": [
    "function mymult(A::Array{T}, B::Array{T}) where T\n",
    "    C = zeros(T, size(A, 1), size(B, 2))\n",
    "    for i in 1:size(A, 1), j in 1:size(B, 2)\n",
    "        sum = zero(T)\n",
    "        for k in 1:size(B, 1)\n",
    "            sum += A[i, k] * B[k, j]\n",
    "        end\n",
    "        C[i, j] = sum\n",
    "    end\n",
    "    return C\n",
    "end"
   ]
  },
  {
   "cell_type": "code",
   "execution_count": 57,
   "metadata": {},
   "outputs": [],
   "source": [
    "A = rand(100, 100)\n",
    "B = rand(100, 100);"
   ]
  },
  {
   "cell_type": "code",
   "execution_count": 58,
   "metadata": {},
   "outputs": [
    {
     "name": "stdout",
     "output_type": "stream",
     "text": [
      "  0.000131 seconds (2 allocations: 78.203 KiB)\n"
     ]
    }
   ],
   "source": [
    "A*B\n",
    "@time A*B;"
   ]
  },
  {
   "cell_type": "code",
   "execution_count": 59,
   "metadata": {
    "scrolled": true
   },
   "outputs": [
    {
     "name": "stdout",
     "output_type": "stream",
     "text": [
      "  0.001194 seconds (2 allocations: 78.203 KiB)\n"
     ]
    }
   ],
   "source": [
    "mymult(A, B)\n",
    "@time mymult(A, B);"
   ]
  },
  {
   "cell_type": "code",
   "execution_count": 86,
   "metadata": {},
   "outputs": [
    {
     "data": {
      "text/plain": [
       "mymult2 (generic function with 1 method)"
      ]
     },
     "execution_count": 86,
     "metadata": {},
     "output_type": "execute_result"
    }
   ],
   "source": [
    "function mymult2(A::Array{T}, B::Array{T}) where T\n",
    "    C = zeros(T, size(A, 1), size(B, 2))\n",
    "    @inbounds @fastmath for i in 1:size(A, 1), j in 1:size(B, 2)\n",
    "        sum = zero(T)\n",
    "        @simd for k in 1:size(B, 1)\n",
    "            sum += A[i, k] * B[k, j]\n",
    "        end\n",
    "        C[i, j] = sum\n",
    "    end\n",
    "    return C\n",
    "end"
   ]
  },
  {
   "cell_type": "code",
   "execution_count": 87,
   "metadata": {},
   "outputs": [
    {
     "name": "stdout",
     "output_type": "stream",
     "text": [
      "  0.000824 seconds (2 allocations: 78.203 KiB)\n"
     ]
    }
   ],
   "source": [
    "mymult2(A, B)\n",
    "@time mymult2(A, B);"
   ]
  },
  {
   "cell_type": "code",
   "execution_count": 60,
   "metadata": {},
   "outputs": [
    {
     "name": "stdout",
     "output_type": "stream",
     "text": [
      "0.1952648162841797ms\n",
      "466.6283130645752ms\n"
     ]
    }
   ],
   "source": [
    "py\"\"\"\n",
    "import numpy as np\n",
    "import time\n",
    "\n",
    "def mymult(A, B):\n",
    "    C = np.zeros( (A.shape[0], B.shape[1]) )\n",
    "    for i in range(A.shape[0]):\n",
    "        for j in range(B.shape[1]):\n",
    "            sum = 0.0\n",
    "            for k in range(A.shape[1]):\n",
    "                sum += A[i, k] * B[k, j]\n",
    "            C[i, j] = sum\n",
    "    return C\n",
    "            \n",
    "A = np.random.rand(100, 100)\n",
    "B = np.random.rand(100, 100)\n",
    "            \n",
    "t = time.time()\n",
    "C1 = A @ B\n",
    "elapsed1 = time.time() - t\n",
    "print(elapsed*1000, \"ms\")\n",
    "\n",
    "t = time.time()\n",
    "C2 = mymult(A, B)\n",
    "elapsed2 = time.time() - t\n",
    "print(elapsed*1000, \"ms\")\n",
    "\"\"\"\n",
    "\n",
    "println(py\"elapsed1\"*1000, \"ms\")\n",
    "println(py\"elapsed2\"*1000, \"ms\")"
   ]
  },
  {
   "cell_type": "code",
   "execution_count": 38,
   "metadata": {},
   "outputs": [],
   "source": [
    "py\"\"\"\n",
    "A = [1,2,3]\n",
    "\"\"\""
   ]
  },
  {
   "cell_type": "code",
   "execution_count": null,
   "metadata": {},
   "outputs": [],
   "source": []
  }
 ],
 "metadata": {
  "kernelspec": {
   "display_name": "Julia 1.4.1",
   "language": "julia",
   "name": "julia-1.4"
  },
  "language_info": {
   "file_extension": ".jl",
   "mimetype": "application/julia",
   "name": "julia",
   "version": "1.4.1"
  }
 },
 "nbformat": 4,
 "nbformat_minor": 4
}
