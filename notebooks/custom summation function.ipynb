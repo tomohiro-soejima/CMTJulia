{
 "cells": [
  {
   "cell_type": "code",
   "execution_count": 1,
   "metadata": {},
   "outputs": [
    {
     "data": {
      "text/plain": [
       "1"
      ]
     },
     "execution_count": 1,
     "metadata": {},
     "output_type": "execute_result"
    }
   ],
   "source": [
    "Threads.nthreads()"
   ]
  },
  {
   "cell_type": "code",
   "execution_count": 2,
   "metadata": {},
   "outputs": [
    {
     "name": "stderr",
     "output_type": "stream",
     "text": [
      "┌ Info: Precompiling PyCall [438e738f-606a-5dbb-bf0a-cddfbfd45ab0]\n",
      "└ @ Base loading.jl:1260\n"
     ]
    }
   ],
   "source": [
    "# needed for calling python functions later\n",
    "# make sure you have numpy in your python environment\n",
    "using PyCall"
   ]
  },
  {
   "cell_type": "code",
   "execution_count": 3,
   "metadata": {},
   "outputs": [
    {
     "data": {
      "text/plain": [
       "mymult (generic function with 1 method)"
      ]
     },
     "execution_count": 3,
     "metadata": {},
     "output_type": "execute_result"
    }
   ],
   "source": [
    "function mymult(A::Array{T}, B::Array{T}) where T\n",
    "    C = zeros(T, size(A, 1), size(B, 2))\n",
    "    for i in 1:size(A, 1), j in 1:size(B, 2)\n",
    "        sum = zero(T)\n",
    "        for k in 1:size(B, 1)\n",
    "            sum += A[i, k] * B[k, j]\n",
    "        end\n",
    "        C[i, j] = sum\n",
    "    end\n",
    "    return C\n",
    "end"
   ]
  },
  {
   "cell_type": "code",
   "execution_count": 4,
   "metadata": {},
   "outputs": [],
   "source": [
    "A = rand(100, 100)\n",
    "B = rand(100, 100);"
   ]
  },
  {
   "cell_type": "code",
   "execution_count": 5,
   "metadata": {},
   "outputs": [
    {
     "name": "stdout",
     "output_type": "stream",
     "text": [
      "  0.000219 seconds (2 allocations: 78.203 KiB)\n"
     ]
    }
   ],
   "source": [
    "A*B\n",
    "@time A*B;"
   ]
  },
  {
   "cell_type": "code",
   "execution_count": 6,
   "metadata": {
    "scrolled": true
   },
   "outputs": [
    {
     "name": "stdout",
     "output_type": "stream",
     "text": [
      "  0.000914 seconds (2 allocations: 78.203 KiB)\n"
     ]
    }
   ],
   "source": [
    "mymult(A, B)\n",
    "@time mymult(A, B);"
   ]
  },
  {
   "cell_type": "code",
   "execution_count": 8,
   "metadata": {},
   "outputs": [
    {
     "name": "stdout",
     "output_type": "stream",
     "text": [
      "0.36644935607910156ms\n",
      "386.721134185791ms\n"
     ]
    }
   ],
   "source": [
    "py\"\"\"\n",
    "import numpy as np\n",
    "import time\n",
    "\n",
    "def mymult(A, B):\n",
    "    C = np.zeros( (A.shape[0], B.shape[1]) )\n",
    "    for i in range(A.shape[0]):\n",
    "        for j in range(B.shape[1]):\n",
    "            sum = 0.0\n",
    "            for k in range(A.shape[1]):\n",
    "                sum += A[i, k] * B[k, j]\n",
    "            C[i, j] = sum\n",
    "    return C\n",
    "            \n",
    "A = np.random.rand(100, 100)\n",
    "B = np.random.rand(100, 100)\n",
    "            \n",
    "t = time.time()\n",
    "C1 = A @ B\n",
    "elapsed1 = time.time() - t\n",
    "\n",
    "t = time.time()\n",
    "C2 = mymult(A, B)\n",
    "elapsed2 = time.time() - t\n",
    "\"\"\"\n",
    "\n",
    "println(py\"elapsed1\"*1000, \"ms\")\n",
    "println(py\"elapsed2\"*1000, \"ms\")"
   ]
  }
 ],
 "metadata": {
  "kernelspec": {
   "display_name": "Julia 1.4.2",
   "language": "julia",
   "name": "julia-1.4"
  },
  "language_info": {
   "file_extension": ".jl",
   "mimetype": "application/julia",
   "name": "julia",
   "version": "1.4.2"
  }
 },
 "nbformat": 4,
 "nbformat_minor": 4
}
