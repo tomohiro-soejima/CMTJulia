{
 "cells": [
  {
   "cell_type": "code",
   "execution_count": 12,
   "metadata": {},
   "outputs": [],
   "source": [
    "import numpy as np\n",
    "import time\n",
    "\n",
    "def mysum(array):\n",
    "    sum = 0.0\n",
    "    for item in array:\n",
    "        sum += item\n",
    "\n",
    "A = np.random.rand(10, 10)\n"
   ]
  },
  {
   "cell_type": "code",
   "execution_count": 13,
   "metadata": {},
   "outputs": [
    {
     "name": "stdout",
     "output_type": "stream",
     "text": [
      "0.09632110595703125 ms\n",
      "0.10728836059570312 ms\n"
     ]
    }
   ],
   "source": [
    "t = time.time()\n",
    "a = np.sum(A)\n",
    "elapsed = time.time() - t\n",
    "print(elapsed*1000, \"ms\")\n",
    "\n",
    "t = time.time()\n",
    "a = mysum(A)\n",
    "elapsed = time.time() - t\n",
    "print(elapsed*1000, \"ms\")"
   ]
  },
  {
   "cell_type": "code",
   "execution_count": 19,
   "metadata": {},
   "outputs": [],
   "source": [
    "def mymult(A, B):\n",
    "    C = np.zeros( (A.shape[0], B.shape[1]) )\n",
    "    for i in range(A.shape[0]):\n",
    "        for j in range(B.shape[1]):\n",
    "            sum = 0.0\n",
    "            for k in range(A.shape[1]):\n",
    "                sum += A[i, k] * B[k, j]\n",
    "            C[i, j] = sum\n",
    "    return C"
   ]
  },
  {
   "cell_type": "code",
   "execution_count": 16,
   "metadata": {},
   "outputs": [],
   "source": [
    "A = np.random.rand(100, 100)\n",
    "B = np.random.rand(100, 100)"
   ]
  },
  {
   "cell_type": "code",
   "execution_count": 22,
   "metadata": {},
   "outputs": [
    {
     "name": "stdout",
     "output_type": "stream",
     "text": [
      "0.5099773406982422 ms\n",
      "411.42821311950684 ms\n"
     ]
    }
   ],
   "source": [
    "t = time.time()\n",
    "C1 = A @ B\n",
    "elapsed = time.time() - t\n",
    "print(elapsed*1000, \"ms\")\n",
    "\n",
    "t = time.time()\n",
    "C2 = mymult(A, B)\n",
    "elapsed = time.time() - t\n",
    "print(elapsed*1000, \"ms\")"
   ]
  },
  {
   "cell_type": "code",
   "execution_count": 23,
   "metadata": {},
   "outputs": [
    {
     "data": {
      "text/plain": [
       "array([[ True,  True,  True, ...,  True,  True,  True],\n",
       "       [ True,  True,  True, ...,  True,  True,  True],\n",
       "       [ True,  True,  True, ...,  True,  True,  True],\n",
       "       ...,\n",
       "       [ True,  True,  True, ...,  True,  True,  True],\n",
       "       [ True,  True,  True, ...,  True,  True,  True],\n",
       "       [ True,  True,  True, ...,  True,  True,  True]])"
      ]
     },
     "execution_count": 23,
     "metadata": {},
     "output_type": "execute_result"
    }
   ],
   "source": [
    "C2 == C2"
   ]
  },
  {
   "cell_type": "code",
   "execution_count": null,
   "metadata": {},
   "outputs": [],
   "source": [
    "Threads"
   ]
  }
 ],
 "metadata": {
  "kernelspec": {
   "display_name": "Python 3",
   "language": "python",
   "name": "python3"
  }
 },
 "nbformat": 4,
 "nbformat_minor": 4
}
