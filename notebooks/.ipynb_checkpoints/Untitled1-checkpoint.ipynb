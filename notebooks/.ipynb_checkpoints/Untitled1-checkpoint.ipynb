{
 "cells": [
  {
   "cell_type": "code",
   "execution_count": 6,
   "metadata": {},
   "outputs": [],
   "source": [
    "import numpy as np\n",
    "import time\n",
    "\n",
    "def mysum(array):\n",
    "    sum = 0.0\n",
    "    for item in array:\n",
    "        sum += item\n",
    "\n",
    "A = np.random.rand(1000, 1000)\n"
   ]
  },
  {
   "cell_type": "code",
   "execution_count": 7,
   "metadata": {},
   "outputs": [
    {
     "name": "stdout",
     "output_type": "stream",
     "text": [
      "1.2238025665283203 ms\n",
      "3.339529037475586 ms\n"
     ]
    }
   ],
   "source": [
    "t = time.time()\n",
    "a = np.sum(A)\n",
    "elapsed = time.time() - t\n",
    "print(elapsed*1000, \"ms\")\n",
    "\n",
    "t = time.time()\n",
    "a = mysum(A)\n",
    "elapsed = time.time() - t\n",
    "print(elapsed*1000, \"ms\")"
   ]
  },
  {
   "cell_type": "code",
   "execution_count": null,
   "metadata": {},
   "outputs": [],
   "source": []
  }
 ],
 "metadata": {
  "kernelspec": {
   "display_name": "Python 3",
   "language": "python",
   "name": "python3"
  },
  "language_info": {
   "codemirror_mode": {
    "name": "ipython",
    "version": 3
   },
   "file_extension": ".py",
   "mimetype": "text/x-python",
   "name": "python",
   "nbconvert_exporter": "python",
   "pygments_lexer": "ipython3",
   "version": "3.7.7"
  }
 },
 "nbformat": 4,
 "nbformat_minor": 4
}
