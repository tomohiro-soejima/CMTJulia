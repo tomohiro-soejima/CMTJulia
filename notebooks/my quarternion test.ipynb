{
 "cells": [
  {
   "cell_type": "code",
   "execution_count": 5,
   "metadata": {},
   "outputs": [],
   "source": [
    "using Random\n",
    "struct MyQuaternion{T} <: Number\n",
    "    a :: T\n",
    "    b :: T\n",
    "    c :: T\n",
    "    d :: T\n",
    "end\n",
    "\n",
    "Base.:+(a :: MyQuaternion{T}, b :: MyQuaternion{T}) where {T} = MyQuaternion{T}( a.a + b.a, a.b + b.b, a.c + b.c, a.d + b.d)\n",
    "Base.:*(a :: MyQuaternion{T}, b :: MyQuaternion{T}) where {T} = MyQuaternion{T}( a.a * b.a - a.b * b.b - a.c * b.c - a.d * b.d,\n",
    "                                                                                     a.a * b.b + a.b * b.a + a.c * b.d - a.d * b.c,\n",
    "                                                                                     a.a * b.c + a.c * b.a + a.d * b.b - a.b * b.d,\n",
    "                                                                                     a.a * b.d + a.d * b.a + a.b * b.c - a.c * b.b)\n",
    "Base.zero(::Type{MyQuaternion{T}}) where {T} = MyQuaternion{T}(zero(T),zero(T),zero(T),zero(T))\n",
    "Random.rand(rng::AbstractRNG, ::Random.SamplerType{MyQuaternion{T}}) where T = MyQuaternion{T}(rand(T), rand(T), rand(T), rand(T))\n",
    "Base.promote_rule(::Type{S}, ::Type{MyQuaternion{T}}) where {T, S} = MyQuaternion{promote_type(T, S)}\n",
    "Base.convert(::Type{MyQuaternion{T}}, x::S) where {T, S<:Real} = MyQuaternion{promote_type(T, S)}(x, zero(promote_type(T, S)), zero(promote_type(T, S)), zero(promote_type(T, S)))\n",
    "Base.real(x::MyQuaternion) = x.a\n",
    "\n",
    "# clever implementatoin copied from julia base\n",
    "# https://github.com/JuliaLang/julia/blob/44fa15b1502a45eac76c9017af94332d4557b251/base/complex.jl#L3-L10\n",
    "function Base.show(io::IO, z::MyQuaternion)\n",
    "    r = z.a\n",
    "    i = z.b\n",
    "    j = z.c\n",
    "    k = z.d\n",
    "    compact = get(io, :compact, false)\n",
    "    Base.show(io, r)\n",
    "    if signbit(i) && !isnan(i)\n",
    "        print(io, compact ? \"-\" : \" - \")\n",
    "        Base.show(io, -i)\n",
    "    else\n",
    "        print(io, compact ? \"+\" : \" + \")\n",
    "        Base.show(io, i)\n",
    "    end\n",
    "    print(io, \"i\")\n",
    "    if signbit(j) && !isnan(j)\n",
    "        print(io, compact ? \"-\" : \" - \")\n",
    "        Base.show(io, -j)\n",
    "    else\n",
    "        print(io, compact ? \"+\" : \" + \")\n",
    "        Base.show(io, j)\n",
    "    end\n",
    "    print(io, \"j\")\n",
    "    if signbit(k) && !isnan(k)\n",
    "        print(io, compact ? \"-\" : \" - \")\n",
    "        Base.show(io, -k)\n",
    "    else\n",
    "        print(io, compact ? \"+\" : \" + \")\n",
    "        Base.show(io, k)\n",
    "    end\n",
    "    print(io, \"k\")\n",
    "end"
   ]
  },
  {
   "cell_type": "code",
   "execution_count": 6,
   "metadata": {},
   "outputs": [
    {
     "data": {
      "text/plain": [
       "0.5387971473965769 + 0.7027234518145107i + 0.5578502285816132j + 0.6033858642053089k"
      ]
     },
     "execution_count": 6,
     "metadata": {},
     "output_type": "execute_result"
    }
   ],
   "source": [
    "rand(MyQuaternion{Float64})"
   ]
  },
  {
   "cell_type": "code",
   "execution_count": 8,
   "metadata": {},
   "outputs": [],
   "source": [
    "A = rand(MyQuaternion{Float64}, 100, 100)\n",
    "B = rand(MyQuaternion{Float64}, 100, 100);"
   ]
  },
  {
   "cell_type": "code",
   "execution_count": 9,
   "metadata": {},
   "outputs": [
    {
     "data": {
      "text/plain": [
       "100×100 Array{MyQuaternion{Float64},2}:\n",
       " -46.6899+54.3291i+49.4626j+49.0691k  …   -48.099+47.8438i+46.8132j+57.0909k\n",
       " -55.1435+66.6167i+41.6582j+51.8188k      -56.0131+58.5542i+44.702j+60.6577k\n",
       "  -50.7356+56.7705i+48.894j+45.4385k     -48.2147+53.8223i+49.0841j+51.5621k\n",
       " -47.5786+61.6801i+46.8858j+49.2613k     -47.7056+54.6404i+47.4498j+59.4781k\n",
       "  -48.2026+55.1093i+42.9706j+49.187k      -51.1721+46.7338i+46.167j+54.1301k\n",
       " -47.2078+58.7352i+53.2146j+52.2982k  …   -48.5952+54.978i+51.5653j+58.3561k\n",
       "  -46.578+52.4407i+51.7713j+48.9222k     -54.0078+45.0556i+50.8607j+56.2087k\n",
       "  -50.565+56.1226i+43.7882j+46.9499k     -51.4543+50.3773i+39.8929j+56.9928k\n",
       "   -45.6362+60.287i+48.905j+49.1615k     -52.1005+57.6384i+45.1181j+53.5308k\n",
       " -50.8445+55.3951i+45.8002j+45.8465k     -49.8813+49.7626i+47.9354j+52.2056k\n",
       "  -43.2344+65.7614i+52.456j+52.2446k  …  -48.0336+62.8986i+50.2191j+61.0925k\n",
       " -48.1769+54.3558i+52.0876j+49.1067k     -51.5615+44.8877i+49.3745j+58.6748k\n",
       " -53.0751+57.6192i+39.0931j+47.9544k      -50.464+52.7642i+40.4688j+55.8398k\n",
       "                                   ⋮  ⋱  \n",
       "  -46.542+58.6334i+47.0164j+48.0923k     -50.9078+52.6414i+46.9701j+52.1769k\n",
       " -50.8938+53.5473i+51.3253j+43.5246k     -51.8206+48.8651i+50.4545j+53.1593k\n",
       " -46.6259+59.3634i+38.5336j+47.2875k  …  -52.1356+53.8393i+37.7688j+52.9775k\n",
       " -48.3441+66.4196i+49.8155j+45.6391k     -50.7827+58.9843i+46.4783j+59.4389k\n",
       " -50.6982+54.2951i+45.4736j+53.2479k       -53.3263+48.9677i+42.75j+55.7486k\n",
       " -46.7971+53.0016i+50.6895j+49.2496k     -50.0455+51.1093i+45.2798j+51.1616k\n",
       " -47.8061+55.9497i+47.0284j+47.6157k     -50.8447+54.1947i+46.2253j+57.4268k\n",
       "  -50.3521+56.9228i+57.985j+55.2023k  …  -53.8334+52.5128i+50.0496j+59.0502k\n",
       " -53.9047+58.4102i+49.4741j+48.9694k      -56.5553+50.072i+46.3335j+53.6019k\n",
       "  -47.252+58.2476i+49.4677j+55.8339k     -50.0569+49.8981i+43.3532j+65.4445k\n",
       " -45.0924+50.6649i+47.0685j+47.9853k     -47.6776+45.7195i+46.2132j+55.3027k\n",
       "  -48.9824+60.9864i+47.135j+55.5038k     -47.8029+51.7562i+47.5162j+60.9221k"
      ]
     },
     "execution_count": 9,
     "metadata": {},
     "output_type": "execute_result"
    }
   ],
   "source": [
    "A * B"
   ]
  },
  {
   "cell_type": "code",
   "execution_count": null,
   "metadata": {},
   "outputs": [],
   "source": []
  }
 ],
 "metadata": {
  "kernelspec": {
   "display_name": "Julia 1.4.2",
   "language": "julia",
   "name": "julia-1.4"
  },
  "language_info": {
   "file_extension": ".jl",
   "mimetype": "application/julia",
   "name": "julia",
   "version": "1.4.2"
  }
 },
 "nbformat": 4,
 "nbformat_minor": 4
}
