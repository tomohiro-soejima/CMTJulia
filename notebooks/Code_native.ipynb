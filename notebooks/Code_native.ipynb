{
 "cells": [
  {
   "cell_type": "code",
   "execution_count": 20,
   "metadata": {},
   "outputs": [
    {
     "data": {
      "text/plain": [
       "mysum (generic function with 2 methods)"
      ]
     },
     "execution_count": 20,
     "metadata": {},
     "output_type": "execute_result"
    }
   ],
   "source": [
    "function mysum(array::Array{T}) where T\n",
    "    answer = zero(T)\n",
    "    for item in array\n",
    "        answer += item\n",
    "    end\n",
    "    return answer\n",
    "end"
   ]
  },
  {
   "cell_type": "code",
   "execution_count": 21,
   "metadata": {},
   "outputs": [],
   "source": [
    "x1 = ones(Int, 10000);"
   ]
  },
  {
   "cell_type": "code",
   "execution_count": 22,
   "metadata": {},
   "outputs": [
    {
     "name": "stdout",
     "output_type": "stream",
     "text": [
      "  0.000014 seconds (1 allocation: 16 bytes)\n"
     ]
    },
    {
     "data": {
      "text/plain": [
       "10000"
      ]
     },
     "execution_count": 22,
     "metadata": {},
     "output_type": "execute_result"
    }
   ],
   "source": [
    "mysum(x1)\n",
    "@time mysum(x1)"
   ]
  },
  {
   "cell_type": "code",
   "execution_count": 13,
   "metadata": {},
   "outputs": [
    {
     "name": "stdout",
     "output_type": "stream",
     "text": [
      "  0.000024 seconds (1 allocation: 16 bytes)\n"
     ]
    },
    {
     "data": {
      "text/plain": [
       "10000.0"
      ]
     },
     "execution_count": 13,
     "metadata": {},
     "output_type": "execute_result"
    }
   ],
   "source": [
    "x2 = ones(Float64, 10000)\n",
    "mysum(x2)\n",
    "@time mysum(x2)"
   ]
  },
  {
   "cell_type": "code",
   "execution_count": 24,
   "metadata": {},
   "outputs": [
    {
     "name": "stdout",
     "output_type": "stream",
     "text": [
      "  0.000166 seconds (10.00 k allocations: 156.250 KiB)\n"
     ]
    },
    {
     "data": {
      "text/plain": [
       "10000.0"
      ]
     },
     "execution_count": 24,
     "metadata": {},
     "output_type": "execute_result"
    }
   ],
   "source": [
    "x3 = [i > 5000 ? 1 : 1.0 for i in 1:10000]\n",
    "mysum(x3)\n",
    "@time mysum(x3)"
   ]
  },
  {
   "cell_type": "code",
   "execution_count": 29,
   "metadata": {},
   "outputs": [
    {
     "name": "stdout",
     "output_type": "stream",
     "text": [
      "\t.text\n",
      "; ┌ @ In[20]:3 within `mysum'\n",
      "; │┌ @ array.jl:764 within `iterate' @ array.jl:764\n",
      "; ││┌ @ In[20]:2 within `length'\n",
      "\tmovq\t8(%rdi), %r10\n",
      "; ││└\n",
      "\ttestq\t%r10, %r10\n",
      "\tjle\tL50\n",
      "; ││┌ @ array.jl:788 within `getindex'\n",
      "\tmovq\t(%rdi), %rdx\n",
      "; │└└\n",
      "\tmovq\t(%rdx), %rax\n",
      "; │ @ In[20]:4 within `mysum'\n",
      "; │┌ @ array.jl:764 within `iterate'\n",
      "; ││┌ @ int.jl:416 within `<' @ int.jl:409\n",
      "\tcmpq\t$1, %r10\n",
      "; ││└\n",
      "\tje\tL244\n",
      "; ││┌ @ array.jl:788 within `getindex'\n",
      "\tleaq\t-1(%r10), %r8\n",
      "\tcmpq\t$32, %r8\n",
      "\tjae\tL53\n",
      "; └└└\n",
      "; ┌ @ array.jl within `mysum'\n",
      "\tmovl\t$2, %esi\n",
      "\tmovl\t$1, %edi\n",
      "\tjmp\tL211\n",
      "L50:\n",
      "\txorl\t%eax, %eax\n",
      "; └\n",
      "; ┌ @ In[20]:6 within `mysum'\n",
      "\tretq\n",
      "; │ @ In[20]:4 within `mysum'\n",
      "; │┌ @ array.jl:764 within `iterate'\n",
      "; ││┌ @ array.jl:788 within `getindex'\n",
      "L53:\n",
      "\tmovq\t%r8, %r9\n",
      "\tandq\t$-32, %r9\n",
      "\tleaq\t1(%r9), %rdi\n",
      "\tleaq\t2(%r9), %rsi\n",
      "\tvmovq\t%rax, %xmm0\n",
      "\tvpxor\t%xmm1, %xmm1, %xmm1\n",
      "\txorl\t%eax, %eax\n",
      "\tvpxor\t%xmm2, %xmm2, %xmm2\n",
      "\tvpxor\t%xmm3, %xmm3, %xmm3\n",
      "\tnopw\t(%rax,%rax)\n",
      "; │└└\n",
      "; │┌ @ int.jl:53 within `+'\n",
      "L96:\n",
      "\tvpaddq\t8(%rdx,%rax,8), %zmm0, %zmm0\n",
      "\tvpaddq\t72(%rdx,%rax,8), %zmm1, %zmm1\n",
      "\tvpaddq\t136(%rdx,%rax,8), %zmm2, %zmm2\n",
      "\tvpaddq\t200(%rdx,%rax,8), %zmm3, %zmm3\n",
      "\taddq\t$32, %rax\n",
      "\tcmpq\t%rax, %r9\n",
      "\tjne\tL96\n",
      "\tvpaddq\t%zmm0, %zmm1, %zmm0\n",
      "\tvpaddq\t%zmm0, %zmm2, %zmm0\n",
      "\tvpaddq\t%zmm0, %zmm3, %zmm0\n",
      "\tvextracti64x4\t$1, %zmm0, %ymm1\n",
      "\tvpaddq\t%zmm1, %zmm0, %zmm0\n",
      "\tvextracti128\t$1, %ymm0, %xmm1\n",
      "\tvpaddq\t%zmm1, %zmm0, %zmm0\n",
      "\tvpshufd\t$78, %xmm0, %xmm1       # xmm1 = xmm0[2,3,0,1]\n",
      "\tvpaddq\t%xmm1, %xmm0, %xmm0\n",
      "\tvmovq\t%xmm0, %rax\n",
      "\tcmpq\t%r9, %r8\n",
      "; │└\n",
      "; │┌ @ array.jl:764 within `iterate'\n",
      "; ││┌ @ array.jl:788 within `getindex'\n",
      "\tje\tL244\n",
      "L211:\n",
      "\tleaq\t-1(%rsi), %rcx\n",
      "\tnopw\t(%rax,%rax)\n",
      "; │└└\n",
      "; │┌ @ int.jl:53 within `+'\n",
      "L224:\n",
      "\taddq\t(%rdx,%rdi,8), %rax\n",
      "; │└\n",
      "; │┌ @ array.jl:764 within `iterate'\n",
      "; ││┌ @ int.jl:416 within `<' @ int.jl:409\n",
      "\taddq\t$1, %rcx\n",
      "\tmovq\t%rsi, %rdi\n",
      "; ││└\n",
      "; ││┌ @ int.jl:53 within `+'\n",
      "\tleaq\t1(%rsi), %rsi\n",
      "; ││└\n",
      "; ││┌ @ int.jl:416 within `<' @ int.jl:409\n",
      "\tcmpq\t%r10, %rcx\n",
      "; ││└\n",
      "\tjb\tL224\n",
      "; │└\n",
      "; │ @ In[20]:6 within `mysum'\n",
      "L244:\n",
      "\tvzeroupper\n",
      "\tretq\n",
      "\tnopl\t(%rax,%rax)\n",
      "; └\n"
     ]
    }
   ],
   "source": [
    "@code_native mysum(x1)"
   ]
  },
  {
   "cell_type": "code",
   "execution_count": null,
   "metadata": {},
   "outputs": [],
   "source": []
  }
 ],
 "metadata": {
  "kernelspec": {
   "display_name": "Julia 1.4.2",
   "language": "julia",
   "name": "julia-1.4"
  },
  "language_info": {
   "file_extension": ".jl",
   "mimetype": "application/julia",
   "name": "julia",
   "version": "1.4.2"
  }
 },
 "nbformat": 4,
 "nbformat_minor": 4
}
